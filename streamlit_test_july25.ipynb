{
 "cells": [
  {
   "cell_type": "code",
   "execution_count": 14,
   "metadata": {},
   "outputs": [],
   "source": [
    "# Importing necessaries libraries\n",
    "import requests\n",
    "import csv\n",
    "import numpy as np\n",
    "import pandas as pd\n",
    "import ast\n",
    "import seaborn as sns\n",
    "import matplotlib.pyplot as plt"
   ]
  },
  {
   "cell_type": "code",
   "execution_count": 15,
   "metadata": {},
   "outputs": [],
   "source": [
    "def get_book_list(params):\n",
    "    \"\"\"\n",
    "    Function to receive a URL (string) and parameters (dictionary) to search by.\n",
    "    The output is a list of dictionaries, each being one book from the website's\n",
    "    result.\n",
    "    \"\"\"\n",
    "    response = requests.get('https://openlibrary.org/search.json', params=params).json()\n",
    "    return response['docs']\n",
    "\n",
    "def get_book_info(book_list:list, columns_of_interest:list):\n",
    "    \"\"\"\n",
    "    Function to receive a list of books, list of dictionaries, (list) and names\n",
    "    of columns of interest (list) to remove unnecessary information.\n",
    "    The output is a list of dictionaries with only columns necessary for our need.\n",
    "    \"\"\"\n",
    "    book_list_selected = []\n",
    "    for book in book_list:\n",
    "        book_dict = {}\n",
    "        for column in columns_of_interest:\n",
    "            # Since some entries may be missing in the columns of interest,\n",
    "            # I used \"try-except\" to avoid errors.\n",
    "            try:\n",
    "                book_dict[column] = book[column]\n",
    "            except KeyError as e:\n",
    "                book_dict[column] = ''\n",
    "                continue\n",
    "        book_list_selected.append(book_dict)\n",
    "    return book_list_selected\n",
    "\n",
    "def create_csv(file_path_name:str, cleanedup_list):\n",
    "    \"\"\"\n",
    "    Function to receive a path to where to file is going to be created, including\n",
    "    its name, (string) and a list of books, list of dictionaries, (list) to\n",
    "    create a csv file.\n",
    "    The output is a csv file created in the designated location.\n",
    "    \"\"\"\n",
    "    with open(f'{file_path_name}.csv', 'w') as csvfile:\n",
    "        writer = csv.DictWriter(csvfile, fieldnames=cleanedup_list[0].keys())\n",
    "        writer.writeheader()\n",
    "        for book in cleanedup_list:\n",
    "            writer.writerow(book)\n",
    "        return book\n",
    "\n",
    "def read_csv(file_path_name):\n",
    "    \"\"\"\n",
    "    Function to receive a path to where to file is saved (string) to read the\n",
    "    csv file.\n",
    "    The output is the csv file opened.\n",
    "    \"\"\"\n",
    "    file = pd.read_csv(f'{file_path_name}.csv')\n",
    "    return file\n",
    "\n",
    "\n",
    "def make_df(book_list:list, fields:list):\n",
    "    df = pd.DataFrame(book_list)\n",
    "    df_sorted = df[fields]\n",
    "    return df_sorted\n"
   ]
  },
  {
   "cell_type": "code",
   "execution_count": 20,
   "metadata": {},
   "outputs": [],
   "source": [
    "params = [\"key\",\n",
    "     \"redirects\",\n",
    "     \"title\",\n",
    "     \"subtitle\",\n",
    "     \"alternative_title\",\n",
    "     \"alternative_subtitle\",\n",
    "     \"cover_i\",\n",
    "     \"ebook_access\",\n",
    "     \"edition_count\",\n",
    "     \"edition_key\",\n",
    "     \"format\",\n",
    "     \"by_statement\",\n",
    "     \"publish_date\",\n",
    "     \"lccn\",\n",
    "     \"ia\",\n",
    "     \"oclc\",\n",
    "     \"isbn\",\n",
    "     \"contributor\",\n",
    "     \"publish_place\",\n",
    "     \"publisher\",\n",
    "     \"first_sentence\",\n",
    "     \"author_key\",\n",
    "     \"author_name\",\n",
    "     \"author_alternative_name\",\n",
    "     \"subject\",\n",
    "     \"person\",\n",
    "     \"place\",\n",
    "     \"time\",\n",
    "     \"has_fulltext\",\n",
    "     \"title_suggest\",\n",
    "     \"publish_year\",\n",
    "     \"language\",\n",
    "     \"number_of_pages_median\",\n",
    "     \"ia_count\",\n",
    "     \"publisher_facet\",\n",
    "     \"author_facet\",\n",
    "     \"first_publish_year\",\n",
    "     \"ratings_count\",\n",
    "     \"readinglog_count\",\n",
    "     \"want_to_read_count\",\n",
    "     \"currently_reading_count\",\n",
    "     \"already_read_count\"]\n",
    "\n",
    "fields = [\"key\",\n",
    "     \"redirects\",\n",
    "     \"title\",\n",
    "     \"subtitle\",\n",
    "     \"alternative_title\",\n",
    "     \"alternative_subtitle\",\n",
    "     \"cover_i\",\n",
    "     \"ebook_access\",\n",
    "     \"edition_count\",\n",
    "     \"edition_key\",\n",
    "     \"format\",\n",
    "     \"by_statement\",\n",
    "     \"publish_date\",\n",
    "     \"lccn\",\n",
    "     \"ia\",\n",
    "     \"oclc\",\n",
    "     \"isbn\",\n",
    "     \"contributor\",\n",
    "     \"publish_place\",\n",
    "     \"publisher\",\n",
    "     \"first_sentence\",\n",
    "     \"author_key\",\n",
    "     \"author_name\",\n",
    "     \"author_alternative_name\",\n",
    "     \"subject\",\n",
    "     \"person\",\n",
    "     \"place\",\n",
    "     \"time\",\n",
    "     \"has_fulltext\",\n",
    "     \"title_suggest\",\n",
    "     \"publish_year\",\n",
    "     \"language\",\n",
    "     \"number_of_pages_median\",\n",
    "     \"ia_count\",\n",
    "     \"publisher_facet\",\n",
    "     \"author_facet\",\n",
    "     \"first_publish_year\",\n",
    "     \"ratings_count\",\n",
    "     \"readinglog_count\",\n",
    "     \"want_to_read_count\",\n",
    "     \"currently_reading_count\",\n",
    "     \"already_read_count\"]"
   ]
  },
  {
   "cell_type": "code",
   "execution_count": 22,
   "metadata": {},
   "outputs": [],
   "source": [
    "# # Text input field\n",
    "# params = ['title']\n",
    "# user_text = ['lord of the rings']\n",
    "\n",
    "# parameters = {}\n",
    "# for p, t in zip(params, user_text):\n",
    "#     parameters[p] = t\n",
    "# parameters"
   ]
  },
  {
   "cell_type": "code",
   "execution_count": 26,
   "metadata": {},
   "outputs": [
    {
     "name": "stdout",
     "output_type": "stream",
     "text": [
      "Result of {'title': 'lord of the rings', 'language': 'rus'} considering ['title', 'isbn', 'language']:\n"
     ]
    },
    {
     "data": {
      "text/html": [
       "<div>\n",
       "<style scoped>\n",
       "    .dataframe tbody tr th:only-of-type {\n",
       "        vertical-align: middle;\n",
       "    }\n",
       "\n",
       "    .dataframe tbody tr th {\n",
       "        vertical-align: top;\n",
       "    }\n",
       "\n",
       "    .dataframe thead th {\n",
       "        text-align: right;\n",
       "    }\n",
       "</style>\n",
       "<table border=\"1\" class=\"dataframe\">\n",
       "  <thead>\n",
       "    <tr style=\"text-align: right;\">\n",
       "      <th></th>\n",
       "      <th>title</th>\n",
       "      <th>isbn</th>\n",
       "      <th>language</th>\n",
       "    </tr>\n",
       "  </thead>\n",
       "  <tbody>\n",
       "    <tr>\n",
       "      <th>0</th>\n",
       "      <td>The Lord of the Rings</td>\n",
       "      <td>[3608939849, 0898452236, 0048230464, 226612745...</td>\n",
       "      <td>[spa, bul, tur, jpn, rus, ita, swe, pol, dut, ...</td>\n",
       "    </tr>\n",
       "    <tr>\n",
       "      <th>1</th>\n",
       "      <td>Novels (Hobbit / Lord of the Rings)</td>\n",
       "      <td>[9781565117075, 9780395282632, 0008112835, 000...</td>\n",
       "      <td>[eng, rus]</td>\n",
       "    </tr>\n",
       "    <tr>\n",
       "      <th>2</th>\n",
       "      <td>The Hobbit / Lord of the Rings / Silmarillion</td>\n",
       "      <td>[5170097468, 9785170097463]</td>\n",
       "      <td>[rus]</td>\n",
       "    </tr>\n",
       "    <tr>\n",
       "      <th>3</th>\n",
       "      <td>The Lord of the Rings [2/2]</td>\n",
       "      <td>[5878600145, 9785878600149]</td>\n",
       "      <td>[rus]</td>\n",
       "    </tr>\n",
       "  </tbody>\n",
       "</table>\n",
       "</div>"
      ],
      "text/plain": [
       "                                           title  \\\n",
       "0                          The Lord of the Rings   \n",
       "1            Novels (Hobbit / Lord of the Rings)   \n",
       "2  The Hobbit / Lord of the Rings / Silmarillion   \n",
       "3                    The Lord of the Rings [2/2]   \n",
       "\n",
       "                                                isbn  \\\n",
       "0  [3608939849, 0898452236, 0048230464, 226612745...   \n",
       "1  [9781565117075, 9780395282632, 0008112835, 000...   \n",
       "2                        [5170097468, 9785170097463]   \n",
       "3                        [5878600145, 9785878600149]   \n",
       "\n",
       "                                            language  \n",
       "0  [spa, bul, tur, jpn, rus, ita, swe, pol, dut, ...  \n",
       "1                                         [eng, rus]  \n",
       "2                                              [rus]  \n",
       "3                                              [rus]  "
      ]
     },
     "execution_count": 26,
     "metadata": {},
     "output_type": "execute_result"
    }
   ],
   "source": [
    "params = ['title', 'language']\n",
    "user_text = ['lord of the rings', 'rus']\n",
    "fields = [\"title\", \"isbn\",\"language\"]\n",
    "\n",
    "parameters = {}\n",
    "for p, t in zip(params, user_text):\n",
    "    parameters[p] = t\n",
    "print(f\"Result of {parameters} considering {fields}:\")\n",
    "book_list_result = get_book_list(parameters)\n",
    "book_info_result = get_book_info(book_list_result, fields)\n",
    "df = make_df(book_info_result,fields)\n",
    "df"
   ]
  },
  {
   "cell_type": "code",
   "execution_count": 25,
   "metadata": {},
   "outputs": [
    {
     "name": "stdout",
     "output_type": "stream",
     "text": [
      "['lord of the rings', 'rus']\n"
     ]
    }
   ],
   "source": [
    "string = \"lord of the rings, rus\"\n",
    "items = [item.strip() for item in string.split(',')]\n",
    "print(items)"
   ]
  },
  {
   "cell_type": "code",
   "execution_count": 32,
   "metadata": {},
   "outputs": [
    {
     "data": {
      "text/plain": [
       "dtype('O')"
      ]
     },
     "execution_count": 32,
     "metadata": {},
     "output_type": "execute_result"
    }
   ],
   "source": [
    "df.title.dtype"
   ]
  },
  {
   "cell_type": "code",
   "execution_count": 36,
   "metadata": {},
   "outputs": [],
   "source": [
    "for column in df.columns:\n",
    "    if df[column].dtype != 'O':\n",
    "        df[column] = df[column].apply(lambda x: x if isinstance(x, str) else str(x))"
   ]
  },
  {
   "cell_type": "code",
   "execution_count": 35,
   "metadata": {},
   "outputs": [
    {
     "name": "stdout",
     "output_type": "stream",
     "text": [
      "<class 'str'>\n",
      "<class 'str'>\n",
      "<class 'str'>\n"
     ]
    }
   ],
   "source": [
    "for column in df.columns:\n",
    "    print(type(column))"
   ]
  },
  {
   "cell_type": "code",
   "execution_count": null,
   "metadata": {},
   "outputs": [],
   "source": [
    "{'title': 'lord of the rings', 'sort': 'ratings_count'}\n",
    "\n",
    "subject_scifi = 'Science Fiction'.lower()\n",
    "sort = 'rating'\n",
    "params_top_sci = {'subject':'Science Fiction', 'sort':'rating'}"
   ]
  }
 ],
 "metadata": {
  "kernelspec": {
   "display_name": "lewagon",
   "language": "python",
   "name": "python3"
  },
  "language_info": {
   "codemirror_mode": {
    "name": "ipython",
    "version": 3
   },
   "file_extension": ".py",
   "mimetype": "text/x-python",
   "name": "python",
   "nbconvert_exporter": "python",
   "pygments_lexer": "ipython3",
   "version": "3.10.6"
  }
 },
 "nbformat": 4,
 "nbformat_minor": 2
}
